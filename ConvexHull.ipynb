{
  "nbformat": 4,
  "nbformat_minor": 0,
  "metadata": {
    "colab": {
      "provenance": [],
      "authorship_tag": "ABX9TyOI+Gjn1tE9e1wVcMju5AZ/",
      "include_colab_link": true
    },
    "kernelspec": {
      "name": "python3",
      "display_name": "Python 3"
    },
    "language_info": {
      "name": "python"
    }
  },
  "cells": [
    {
      "cell_type": "markdown",
      "metadata": {
        "id": "view-in-github",
        "colab_type": "text"
      },
      "source": [
        "<a href=\"https://colab.research.google.com/github/IsraLG22/ClusterGen-ILAA/blob/main/ConvexHull.ipynb\" target=\"_parent\"><img src=\"https://colab.research.google.com/assets/colab-badge.svg\" alt=\"Open In Colab\"/></a>"
      ]
    },
    {
      "cell_type": "code",
      "execution_count": null,
      "metadata": {
        "id": "IAzn86cDHR7y"
      },
      "outputs": [],
      "source": [
        "import umap\n",
        "import anndata as ad\n",
        "import numpy as np\n",
        "import matplotlib.pyplot as plt\n",
        "from scipy.spatial import ConvexHull\n",
        "\n",
        "Datos= '/content/drive/MyDrive/Classroom/1c2d14d8-32d4-41be-b38d-ba975ad10efa.h5ad'\n",
        "adata = ad.read_h5ad(Datos)\n",
        "\n",
        "data = adata.X\n",
        "\n",
        "umap = umap.UMAP(n_components=2, random_state=42)\n",
        "data_2d = umap.fit_transform(data)\n",
        "\n",
        "\n",
        "hull = ConvexHull(data_2d)\n",
        "\n",
        "plt.figure(figsize=(8, 6))\n",
        "plt.scatter(data_2d[:, 0], data_2d[:, 1], s=10, label='Datos')\n",
        "\n",
        "for simplex in hull.simplices:\n",
        "    plt.plot(data_2d[simplex, 0], data_2d[simplex, 1], 'k-', lw=1.5)\n",
        "\n",
        "plt.fill(data_2d[hull.vertices, 0], data_2d[hull.vertices, 1], 'b', alpha=0.1, label='Convex Hull')\n",
        "plt.title('UMAP + Convex Hull')\n",
        "plt.xlabel('UMAP 1')\n",
        "plt.ylabel('UMAP 2')\n",
        "plt.legend()\n",
        "plt.show()"
      ]
    }
  ]
}