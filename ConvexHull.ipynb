{
  "nbformat": 4,
  "nbformat_minor": 0,
  "metadata": {
    "colab": {
      "provenance": [],
      "authorship_tag": "ABX9TyNGa3NfCEvzVMrIR7Xtf0xE",
      "include_colab_link": true
    },
    "kernelspec": {
      "name": "python3",
      "display_name": "Python 3"
    },
    "language_info": {
      "name": "python"
    }
  },
  "cells": [
    {
      "cell_type": "markdown",
      "metadata": {
        "id": "view-in-github",
        "colab_type": "text"
      },
      "source": [
        "<a href=\"https://colab.research.google.com/github/IsraLG22/ClusterGen-ILAA/blob/main/ConvexHull.ipynb\" target=\"_parent\"><img src=\"https://colab.research.google.com/assets/colab-badge.svg\" alt=\"Open In Colab\"/></a>"
      ]
    },
    {
      "cell_type": "code",
      "execution_count": null,
      "metadata": {
        "id": "IAzn86cDHR7y"
      },
      "outputs": [],
      "source": [
        "import umap\n",
        "import anndata as ad\n",
        "import numpy as np\n",
        "import matplotlib.pyplot as plt\n",
        "from scipy.spatial import ConvexHull\n",
        "\n",
        "# Cargar datos\n",
        "Datos = '/content/drive/MyDrive/Classroom/1c2d14d8-32d4-41be-b38d-ba975ad10efa.h5ad'\n",
        "adata = ad.read_h5ad(Datos)\n",
        "umap_coords = adata.obsm['X_UMAP']\n",
        "clusters = adata.obs['cluster_id']\n",
        "\n",
        "plt.figure(figsize=(10, 8))\n",
        "\n",
        "# Graficar los clusters y calcular el Convex Hull\n",
        "for cluster in np.unique(clusters):\n",
        "    cluster_points = umap_coords[clusters == cluster]\n",
        "    plt.scatter(cluster_points[:, 0], cluster_points[:, 1], label=f'Cluster {cluster}')\n",
        "    if len(cluster_points) >= 3:\n",
        "        hull = ConvexHull(cluster_points)\n",
        "        for simplex in hull.simplices:\n",
        "            plt.plot(cluster_points[simplex, 0], cluster_points[simplex, 1], 'k--')\n",
        "\n",
        "# Configurar el gráfico\n",
        "plt.title('UMAP y Convex Hull ')\n",
        "plt.xlabel('Componente 1')\n",
        "plt.ylabel('Componente 2')\n",
        "plt.legend()\n",
        "plt.show()"
      ]
    }
  ]
}