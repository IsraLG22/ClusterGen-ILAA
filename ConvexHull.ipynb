{
  "nbformat": 4,
  "nbformat_minor": 0,
  "metadata": {
    "colab": {
      "provenance": [],
      "authorship_tag": "ABX9TyOhgLp2neQJUOLMSoeLmQ/C",
      "include_colab_link": true
    },
    "kernelspec": {
      "name": "python3",
      "display_name": "Python 3"
    },
    "language_info": {
      "name": "python"
    }
  },
  "cells": [
    {
      "cell_type": "markdown",
      "metadata": {
        "id": "view-in-github",
        "colab_type": "text"
      },
      "source": [
        "<a href=\"https://colab.research.google.com/github/IsraLG22/ClusterGen-ILAA/blob/main/ConvexHull.ipynb\" target=\"_parent\"><img src=\"https://colab.research.google.com/assets/colab-badge.svg\" alt=\"Open In Colab\"/></a>"
      ]
    },
    {
      "cell_type": "code",
      "execution_count": null,
      "metadata": {
        "id": "IAzn86cDHR7y"
      },
      "outputs": [],
      "source": [
        "import umap\n",
        "import anndata as ad\n",
        "import numpy as np\n",
        "import matplotlib.pyplot as plt\n",
        "from scipy.spatial import ConvexHull\n",
        "\n",
        "# Cargar datos\n",
        "Datos = '/content/drive/MyDrive/Classroom/1c2d14d8-32d4-41be-b38d-ba975ad10efa.h5ad'\n",
        "adata = ad.read_h5ad(Datos)\n",
        "\n",
        "Coordenadas = adata.obsm['X_umap']\n",
        "clusters= adata.obs['cluster_id']\n",
        "\n",
        "\n",
        "\n",
        "# Dividir los datos en dos clusters\n",
        "cluster_1 = data_2d[data_2d[:, 0] < 2.5]\n",
        "cluster_2 = data_2d[data_2d[:, 0] >= 4]\n",
        "\n",
        "# Calcular Convex Hulls\n",
        "hull_1 = ConvexHull(cluster_1)\n",
        "hull_2 = ConvexHull(cluster_2)\n",
        "\n",
        "# Crear figura\n",
        "plt.figure(figsize=(8, 6))\n",
        "\n",
        "# Graficar puntos\n",
        "plt.scatter(cluster_1[:, 0], cluster_1[:, 1], s=10, color='r', label='Cluster 1')\n",
        "plt.scatter(cluster_2[:, 0], cluster_2[:, 1], s=10, color='g', label='Cluster 2')\n",
        "\n",
        "# Graficar Convex Hulls\n",
        "for arista in hull_1.simplices:\n",
        "    plt.plot(cluster_1[arista, 0], cluster_1[arista, 1], 'k-', lw=1.5)\n",
        "\n",
        "for arista in hull_2.simplices:\n",
        "    plt.plot(cluster_2[arista, 0], cluster_2[arista, 1], 'k-', lw=1.5)\n",
        "\n",
        "# Rellenar los Convex Hulls\n",
        "plt.fill(cluster_1[hull_1.vertices, 0], cluster_1[hull_1.vertices, 1], 'r', alpha=0.1)\n",
        "plt.fill(cluster_2[hull_2.vertices, 0], cluster_2[hull_2.vertices, 1], 'g', alpha=0.1)\n",
        "\n",
        "# Configurar el gráfico\n",
        "plt.title('UMAP + Convex Hull con 2 Clusters')\n",
        "plt.xlabel('Componente x')\n",
        "plt.ylabel('Componente y')\n",
        "plt.legend()\n",
        "plt.show()"
      ]
    }
  ]
}